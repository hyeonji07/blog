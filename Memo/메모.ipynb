{
  "cells": [
    {
      "cell_type": "raw",
      "metadata": {
        "id": "cgO6j_W1Y1sF"
      },
      "source": [
        "---\n",
        "title: \"메모장\"\n",
        "author: \"전현지\"\n",
        "date: \"01/02/2024\"\n",
        "categories:\n",
        "  - Memo\n",
        "---"
      ]
    },
    {
      "cell_type": "markdown",
      "metadata": {},
      "source": [
        "메모메모"
      ]
    },
    {
      "cell_type": "markdown",
      "metadata": {},
      "source": []
    }
  ],
  "metadata": {
    "colab": {
      "provenance": []
    },
    "kernelspec": {
      "display_name": "Python 3",
      "name": "python3"
    },
    "language_info": {
      "name": "python"
    }
  },
  "nbformat": 4,
  "nbformat_minor": 0
}
